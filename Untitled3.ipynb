{
  "nbformat": 4,
  "nbformat_minor": 0,
  "metadata": {
    "colab": {
      "name": "Untitled3.ipynb",
      "provenance": [],
      "authorship_tag": "ABX9TyOxnIq8t7Yi4KIZxiJ/xDzV",
      "include_colab_link": true
    },
    "kernelspec": {
      "name": "python3",
      "display_name": "Python 3"
    },
    "language_info": {
      "name": "python"
    }
  },
  "cells": [
    {
      "cell_type": "markdown",
      "metadata": {
        "id": "view-in-github",
        "colab_type": "text"
      },
      "source": [
        "<a href=\"https://colab.research.google.com/github/2110030122SRIMAN/phython/blob/main/Untitled3.ipynb\" target=\"_parent\"><img src=\"https://colab.research.google.com/assets/colab-badge.svg\" alt=\"Open In Colab\"/></a>"
      ]
    },
    {
      "cell_type": "code",
      "execution_count": 1,
      "metadata": {
        "colab": {
          "base_uri": "https://localhost:8080/"
        },
        "id": "b7J3meBK0R37",
        "outputId": "b482817e-a754-4dde-c4f5-651059f62e5a"
      },
      "outputs": [
        {
          "output_type": "stream",
          "name": "stdout",
          "text": [
            "union= {1, 2, 3, 4, 5, 6, 7}\n",
            "intersection= {4, 5}\n",
            "differ= {1, 2, 3}\n",
            "symmetric diff= {1, 2, 3, 6, 7}\n"
          ]
        }
      ],
      "source": [
        "a={1,2,3,4,5}\n",
        "b={4,5,6,7}\n",
        "print('union=',a|b)\n",
        "print('intersection=',a&b)\n",
        "print('differ=',a-b)\n",
        "print('symmetric diff=',a^b)"
      ]
    },
    {
      "cell_type": "code",
      "source": [
        "studentList ={'danish', 'amrutha','jaison,''lohita' ,\n",
        "                               'uma', 'prasad','ashwathi'}\n",
        "\n",
        "placedStudList = [\"uma\", \"danish\", \"amrutha\"] \n",
        "notPlacedStudList = set (studentList) - set (placedStudList)\n",
        "print(\"student to get yet job\",notPlacedStudList)"
      ],
      "metadata": {
        "colab": {
          "base_uri": "https://localhost:8080/"
        },
        "id": "KghknxfS0rzP",
        "outputId": "6a3625a4-0066-41cf-e207-f7212dedceed"
      },
      "execution_count": 5,
      "outputs": [
        {
          "output_type": "stream",
          "name": "stdout",
          "text": [
            "student to get yet job {'prasad', 'jaison,lohita', 'ashwathi'}\n"
          ]
        }
      ]
    },
    {
      "cell_type": "code",
      "source": [
        "batsmen=[\"virat\", \"rohit\", \"dhawan\", \"dhoni\", \"pandya\", \"jadeja\"]\n",
        "\n",
        "\n",
        "\n",
        "\n",
        "bowlers =[\"bhuvenashwar\", \"shami\", \"pandya\", \"jadeja\",\"kuldeep\"]\n",
        "\n",
        "allrounders =set (batsmen)& set (bowlers)\n",
        "\n",
        "\n",
        "\n",
        "\n",
        "\n",
        "\n",
        "print(bowlers)\n",
        "\n",
        "print(batsmen)\n",
        "print(\"All rounders:\" , allrounders)"
      ],
      "metadata": {
        "colab": {
          "base_uri": "https://localhost:8080/"
        },
        "id": "so2Z1koo2oWc",
        "outputId": "49b7da74-7869-47f0-9e6c-fd155d0dac18"
      },
      "execution_count": 7,
      "outputs": [
        {
          "output_type": "stream",
          "name": "stdout",
          "text": [
            "['bhuvenashwar', 'shami', 'pandya', 'jadeja', 'kuldeep']\n",
            "['virat', 'rohit', 'dhawan', 'dhoni', 'pandya', 'jadeja']\n",
            "All rounders: {'pandya', 'jadeja'}\n"
          ]
        }
      ]
    },
    {
      "cell_type": "code",
      "source": [
        "tcs= [\"uma\", \"danish\", \"amrutha\"]\n",
        "\n",
        "infosys= [\"lohita\", \"danish\", \"ashwathi\"] \n",
        "wipro= [\"sangeetha\", \"jaison\", \"prasad\", \"amrutha\"]\n",
        "\n",
        "placed =set (tcs) |set (infosys) | set (wipro)\n",
        "\n",
        "\n",
        "\n",
        "print (placed); print (\"Numberof people placed\",len (placed))\n",
        "print (\"Numberof people placed\",len (placed))\n",
        "\n"
      ],
      "metadata": {
        "colab": {
          "base_uri": "https://localhost:8080/"
        },
        "id": "ifxRI0Sv3tCU",
        "outputId": "969b6100-8103-4980-8c89-ae595658f14a"
      },
      "execution_count": 8,
      "outputs": [
        {
          "output_type": "stream",
          "name": "stdout",
          "text": [
            "{'jaison', 'prasad', 'danish', 'sangeetha', 'uma', 'lohita', 'amrutha', 'ashwathi'}\n",
            "Numberof people placed 8\n",
            "Numberof people placed 8\n"
          ]
        }
      ]
    },
    {
      "cell_type": "code",
      "source": [
        "numbers = {1,2,3,4,5,6,7,8,9,10}\n",
        "odd={1,3,5,7,9}  \n",
        "even = {2,4,6,8,10}\n",
        "\n",
        "\n",
        "print(odd.isdisjoint (even))\n",
        "print (numbers.issuperset (odd)) \n",
        "print(odd.issuperset (numbers))\n",
        "print(odd.issubset(numbers))"
      ],
      "metadata": {
        "colab": {
          "base_uri": "https://localhost:8080/"
        },
        "id": "lF4c2zf54jEo",
        "outputId": "120de438-7ed4-4298-e90e-8c7297f7d832"
      },
      "execution_count": 9,
      "outputs": [
        {
          "output_type": "stream",
          "name": "stdout",
          "text": [
            "True\n",
            "True\n",
            "False\n",
            "True\n"
          ]
        }
      ]
    },
    {
      "cell_type": "code",
      "source": [
        "data = \"cranes varsity bangalore\"\n",
        "\n",
        "unique = set (data)\n",
        "\n",
        "print(\"Number of unique characters =\",len (unique))\n",
        "\n",
        "print (\"Let of unique characters = \",unique)\n",
        "\n",
        "data= list(data)\n",
        "\n",
        "for ele in unique:data.remove(ele)\n",
        "\n",
        "\n",
        "\n",
        "print(\"Repeated Characters\" ,set (data))"
      ],
      "metadata": {
        "colab": {
          "base_uri": "https://localhost:8080/"
        },
        "id": "ZbWnJutp5r_V",
        "outputId": "618567d3-717e-490c-fcf1-f431af2bd9d6"
      },
      "execution_count": 11,
      "outputs": [
        {
          "output_type": "stream",
          "name": "stdout",
          "text": [
            "Number of unique characters = 15\n",
            "Let of unique characters =  {' ', 'e', 'a', 'l', 'i', 's', 'n', 'b', 'g', 'r', 'y', 'c', 'o', 'v', 't'}\n",
            "Repeated Characters {' ', 'e', 'a', 's', 'n', 'r'}\n"
          ]
        }
      ]
    }
  ]
}